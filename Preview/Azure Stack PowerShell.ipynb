{
 "cells": [
  {
   "cell_type": "markdown",
   "metadata": {},
   "source": [
    "# Using Azure (Az) PowerShell for AzureStackHub\n",
    "\n",
    "## Intro\n",
    "\n",
    "In this notebook I going to explain how to use the Azure Az PowerShell module for Azure Stack Hub.\n",
    "\n",
    "### Step 1\n",
    "* First we look if any current Az modules are installed and remove these."
   ]
  },
  {
   "cell_type": "code",
   "execution_count": null,
   "metadata": {},
   "outputs": [],
   "source": [
    "Get-Module -ListAvailable Az*"
   ]
  },
  {
   "cell_type": "code",
   "execution_count": null,
   "metadata": {},
   "outputs": [],
   "source": [
    "Get-Module -Name Azure* -ListAvailable | Uninstall-Module -Force -Verbose -ErrorAction Continue\n",
    "Get-Module -Name Azs.* -ListAvailable | Uninstall-Module -Force -Verbose -ErrorAction Continue\n",
    "Get-Module -Name Az.* -ListAvailable | Uninstall-Module -Force -Verbose -ErrorAction Continue"
   ]
  },
  {
   "cell_type": "markdown",
   "metadata": {},
   "source": [
    "### Step 2\n",
    "\n",
    "* Install the Az.Bootstrapper and use the correct Az Profile.\n",
    "* Install Azure Stack module"
   ]
  },
  {
   "cell_type": "code",
   "execution_count": null,
   "metadata": {},
   "outputs": [],
   "source": [
    "Install-Module -Name Az.BootStrapper -Force -AllowPrerelease\n",
    "Install-AzProfile -Profile 2019-03-01-hybrid -Force\n",
    "Install-Module -Name AzureStack -RequiredVersion 2.0.0-preview -AllowPrerelease"
   ]
  },
  {
   "cell_type": "markdown",
   "metadata": {},
   "source": [
    "### Step 3\n",
    "\n",
    "* Register an Azure Resource Manager environment that targets your Azure Stack Hub instance. Get your Azure Resource Manager endpoint value from your service provider.\n",
    "\n",
    "* Set your tenant name.\n",
    "\n",
    "* After signing in to your environment, Azure Stack Hub cmdlets can be easily targeted at your Azure Stack Hub instance."
   ]
  },
  {
   "cell_type": "code",
   "execution_count": null,
   "metadata": {},
   "outputs": [],
   "source": [
    "Get-AzEnvironment"
   ]
  },
  {
   "cell_type": "code",
   "execution_count": null,
   "metadata": {},
   "outputs": [],
   "source": [
    "Add-AzEnvironment -Name \"AzureStackAdmin\" -ArmEndpoint \"https://adminmanagement.redmond.asic.cloud\" `\n",
    "  -AzureKeyVaultDnsSuffix adminvault.redmond.asic.cloud `\n",
    "  -AzureKeyVaultServiceEndpointResourceId https://adminvault.redmond.asic.cloud"
   ]
  },
  {
   "cell_type": "code",
   "execution_count": null,
   "metadata": {},
   "outputs": [],
   "source": [
    "$AuthEndpoint = (Get-AzEnvironment -Name \"AzureStackAdmin\").ActiveDirectoryAuthority.TrimEnd('/')\n",
    "$AADTenantName = \"asiccloud.onmicrosoft.com\"\n",
    "$TenantId = (Invoke-RestMethod \"$($AuthEndpoint)/$($AADTenantName)/.well-known/openid-configuration\").issuer.TrimEnd('/').Split('/')[-1]"
   ]
  },
  {
   "cell_type": "code",
   "execution_count": null,
   "metadata": {},
   "outputs": [],
   "source": [
    "Add-AzAccount -EnvironmentName \"AzureStackAdmin\" -TenantId $TenantId"
   ]
  },
  {
   "cell_type": "markdown",
   "metadata": {},
   "source": [
    "### Step 4\n",
    "\n",
    "* Run some commands and verify you are connnected"
   ]
  },
  {
   "cell_type": "code",
   "execution_count": null,
   "metadata": {},
   "outputs": [],
   "source": [
    "Get-AzsAlert"
   ]
  },
  {
   "cell_type": "code",
   "execution_count": null,
   "metadata": {},
   "outputs": [],
   "source": [
    "Get-AzResourceGroup"
   ]
  },
  {
   "cell_type": "code",
   "execution_count": null,
   "metadata": {},
   "outputs": [],
   "source": []
  }
 ],
 "metadata": {
  "kernelspec": {
   "display_name": ".NET (PowerShell)",
   "language": "PowerShell",
   "name": ".net-powershell"
  },
  "language_info": {
   "file_extension": ".ps1",
   "mimetype": "text/x-powershell",
   "name": "PowerShell",
   "pygments_lexer": "powershell",
   "version": "7.0"
  }
 },
 "nbformat": 4,
 "nbformat_minor": 4
}
